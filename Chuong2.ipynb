{
  "nbformat": 4,
  "nbformat_minor": 0,
  "metadata": {
    "colab": {
      "provenance": [],
      "authorship_tag": "ABX9TyM11j7qieuvy+oSydSP5rV5",
      "include_colab_link": true
    },
    "kernelspec": {
      "name": "python3",
      "display_name": "Python 3"
    },
    "language_info": {
      "name": "python"
    }
  },
  "cells": [
    {
      "cell_type": "markdown",
      "metadata": {
        "id": "view-in-github",
        "colab_type": "text"
      },
      "source": [
        "<a href=\"https://colab.research.google.com/github/loidth235693-cyber/DTH235693_BuiThiNgocLoi_Nopbai/blob/main/Chuong2.ipynb\" target=\"_parent\"><img src=\"https://colab.research.google.com/assets/colab-badge.svg\" alt=\"Open In Colab\"/></a>"
      ]
    },
    {
      "cell_type": "code",
      "execution_count": 1,
      "metadata": {
        "colab": {
          "base_uri": "https://localhost:8080/"
        },
        "id": "CoiTeXf6gOWn",
        "outputId": "ce9860e9-3ea4-4264-9a33-cf6ee0081eed"
      },
      "outputs": [
        {
          "output_type": "stream",
          "name": "stdout",
          "text": [
            "Mời bạn nhập bán kính hình tròn:4\n",
            "Chu vi = 25.132741228718345\n",
            "Diện tích= 16.0\n"
          ]
        }
      ],
      "source": [
        "#Cau1\n",
        "import math\n",
        "try:\n",
        " r=float(input(\"Mời bạn nhập bán kính hình tròn:\"))\n",
        " cv=2*math.pi*r\n",
        " dt=r**2\n",
        " print(\"Chu vi =\",cv)\n",
        " print(\"Diện tích=\",dt)\n",
        "except:\n",
        " print(\"Lỗi rồi!\")\n"
      ]
    },
    {
      "cell_type": "code",
      "source": [
        "#Cau2\n",
        "t=int(input(\"Nhập số giây:\"))\n",
        "hour=(t//3600)%24\n",
        "minute=(t%3600)//60\n",
        "second=(t%3600)%60\n",
        "print(hour,\":\",minute,\":\",second)"
      ],
      "metadata": {
        "colab": {
          "base_uri": "https://localhost:8080/"
        },
        "id": "8pjY10GAgndO",
        "outputId": "5cf0f021-a02f-4d4b-d437-d4e978446fbf"
      },
      "execution_count": 3,
      "outputs": [
        {
          "output_type": "stream",
          "name": "stdout",
          "text": [
            "Nhập số giây:560\n",
            "0 : 9 : 20\n"
          ]
        }
      ]
    },
    {
      "cell_type": "code",
      "source": [
        "#Cau3\n",
        "toan=float(input(\"Nhập điểm Toán:\"))\n",
        "ly=float(input(\"Nhập điểm lý:\"))\n",
        "hoa=float(input(\"Nhập điểm hóa:\"))\n",
        "dtb=(toan+ly+hoa)/3\n",
        "print(\"Điểm trung bình=\",dtb)\n",
        "print(\"Điểm trung bình=\",round(dtb,2))"
      ],
      "metadata": {
        "colab": {
          "base_uri": "https://localhost:8080/"
        },
        "id": "m_7nuoiigyJv",
        "outputId": "01124883-414c-45e3-af8c-448407f4c67a"
      },
      "execution_count": 4,
      "outputs": [
        {
          "output_type": "stream",
          "name": "stdout",
          "text": [
            "Nhập điểm Toán:9\n",
            "Nhập điểm lý:7\n",
            "Nhập điểm hóa:10\n",
            "Điểm trung bình= 8.666666666666666\n",
            "Điểm trung bình= 8.67\n"
          ]
        }
      ]
    },
    {
      "cell_type": "markdown",
      "source": [
        "Câu 4: Python hỗ trợ các kiểu dữ liệu cơ bản sau: int, float, complex, str, bool, list, tuple, set, frozenset, dict, và NoneType."
      ],
      "metadata": {
        "id": "2jF-WqcPii4g"
      }
    },
    {
      "cell_type": "markdown",
      "source": [
        "Câu 5:\n",
        "Ghi chú một dòng → dùng #.\n",
        "\n",
        "Ghi chú nhiều dòng → dùng ''' ... ''' hoặc \"\"\" ... \"\"\".\n",
        "\n",
        "Docstring → ghi chú tài liệu cho hàm, lớp, module."
      ],
      "metadata": {
        "id": "dZ36-PTJiohD"
      }
    },
    {
      "cell_type": "markdown",
      "source": [
        "Câu 6: ý nghĩa của từng toán tử:   \n",
        "/:\tChia thường (kết quả float).\n",
        "//:\tChia lấy nguyên (floor division).\n",
        "%:\tChia lấy dư.\n",
        "**:\tLũy thừa.\n",
        "and:\tLogic AND (cả 2 đúng mới True).\n",
        "or:\tLogic OR (1 trong 2 đúng là True).\n",
        "is:\tSo sánh địa chỉ (cùng object hay không)."
      ],
      "metadata": {
        "id": "x--9ooHrjLcr"
      }
    },
    {
      "cell_type": "markdown",
      "source": [],
      "metadata": {
        "id": "xV10jfNbjsL7"
      }
    },
    {
      "cell_type": "code",
      "source": [
        "#Cau 7\n",
        "#nhập chuỗi\n",
        "name = input(\"Nhập tên của bạn: \")\n",
        "print(\"Xin chào,\", name)\n",
        "#nhập số nguyên\n",
        "age = int(input(\"Nhập tuổi: \"))\n",
        "print(\"Năm sau bạn sẽ:\", age + 1)\n",
        "#Nhập số thực\n",
        "score = float(input(\"Nhập điểm số: \"))\n",
        "print(\"Điểm bạn vừa nhập:\", score)\n",
        "#Nhập nhiều giá trị trên một dòng (dùng split())\n",
        "a, b = input(\"Nhập hai số cách nhau bởi dấu cách: \").split()\n",
        "print(\"Số 1:\", a, \"Số 2:\", b)\n",
        "#Nhập danh sách nhiều phần tử\n",
        "numbers = list(map(int, input(\"Nhập các số nguyên: \").split()))\n",
        "print(\"Danh sách:\", numbers)\n",
        "#Nhập nhiều dòng (dùng vòng lặp)\n",
        "print(\"Nhập 3 dòng:\")\n",
        "lines = []\n",
        "for i in range(3):\n",
        "    s = input()\n",
        "    lines.append(s)\n",
        "print(\"Bạn đã nhập:\", lines)"
      ],
      "metadata": {
        "colab": {
          "base_uri": "https://localhost:8080/"
        },
        "id": "8uHP405rkN2r",
        "outputId": "2092af89-9501-4dc1-db0c-df6c417a6872"
      },
      "execution_count": 5,
      "outputs": [
        {
          "output_type": "stream",
          "name": "stdout",
          "text": [
            "Nhập tên của bạn: ngocloi\n",
            "Xin chào, ngocloi\n",
            "Nhập tuổi: 23\n",
            "Năm sau bạn sẽ: 24\n",
            "Nhập điểm số: 2\n",
            "Điểm bạn vừa nhập: 2.0\n",
            "Nhập hai số cách nhau bởi dấu cách: 23 45\n",
            "Số 1: 23 Số 2: 45\n",
            "Nhập các số nguyên: 45\n",
            "Danh sách: [45]\n",
            "Nhập 3 dòng:\n",
            "nfkfkf\n",
            "dkkdnkf\n",
            "cdkdnfkf\n",
            "Bạn đã nhập: ['nfkfkf', 'dkkdnkf', 'cdkdnfkf']\n"
          ]
        }
      ]
    },
    {
      "cell_type": "markdown",
      "source": [
        "Câu 8:\n",
        "Lỗi cú pháp → sai quy tắc viết code.\n",
        "\n",
        "Lỗi runtime (exception) → xảy ra khi chạy (chia cho 0, sai kiểu dữ liệu...).\n",
        "\n",
        "Lỗi logic → kết quả sai, khó phát hiện.\n",
        "Để xử lý lỗi, dùng try – except – else – finally giúp chương trình không bị dừng đột ngột."
      ],
      "metadata": {
        "id": "1xAFbi5mlrsg"
      }
    },
    {
      "cell_type": "markdown",
      "source": [
        "Câu 9:Kết quả:\n",
        "(a) i1 + (i2 * i3)\n",
        "= 2 + (5 * -3) = 2 + (-15) = -13\n",
        "\n",
        "(b) i1 * (i2 + i3)\n",
        "= 2 * (5 + -3) = 2 * 2 = 4\n",
        "\n",
        "(c) i1 / (i2 + i3)\n",
        "= 2 / (5 + -3) = 2 / 2 = 1.0\n",
        "\n",
        "(d) i1 // (i2 + i3)\n",
        "= 2 // (5 + -3) = 2 // 2 = 1\n",
        "\n",
        "(e) i1 / i2 + i3\n",
        "= (2 / 5) + (-3) = 0.4 + (-3) = -2.6\n",
        "\n",
        "(f) i1 // i2 + i3\n",
        "= (2 // 5) + (-3) = 0 + (-3) = -3\n",
        "\n",
        " (g) 3 + 4 + 5 / 3\n",
        " = 3 + 4 + (5 / 3) = 3 + 4 + 1.666... = 8.666...\n",
        "\n",
        " (h) 3 + 4 + 5 // 3\n",
        " = 3 + 4 + (5 // 3) = 3 + 4 + 1 = 8\n",
        "\n",
        "(i) (3 + 4 + 5) / 3\n",
        " = (12) / 3 = 4.0\n",
        "\n",
        " (j) (3 + 4 + 5) // 3\n",
        " = (12) // 3 = 4\n",
        "\n",
        " (k) d1 + (d2 * d3)\n",
        " = 2.0 + (5.0 * -0.5) = 2.0 + (-2.5) = -0.5\n",
        "\n",
        " (l) d1 + d2 * d3\n",
        " = 2.0 + 5.0 * -0.5 = 2.0 + (-2.5) = -0.5\n",
        "\n",
        " (m) d1 / d2 - d3\n",
        " = (2.0 / 5.0) - (-0.5) = 0.4 + 0.5 = 0.9\n",
        "\n",
        " (n) d1 / (d2 - d3)\n",
        " = 2.0 / (5.0 - (-0.5)) = 2.0 / 5.5 ≈ 0.3636\n",
        "\n",
        " (o) d1 + d2 + d3 / 3\n",
        " = 2.0 + 5.0 + (-0.5 / 3) = 2.0 + 5.0 + (-0.1666...) = 6.833...\n",
        "\n",
        " (p) (d1 + d2 + d3) / 3\n",
        " = (2.0 + 5.0 + -0.5) / 3 = (6.5) / 3 ≈ 2.166...\n",
        "\n",
        " (q) d1 + d2 + (d3 / 3)\n",
        " = 2.0 + 5.0 + (-0.5 / 3) = 2.0 + 5.0 + (-0.1666...) = 6.833...\n",
        "\n",
        " (r) 3 * (d1 + d2) * (d1 - d3)\n",
        " = 3 * (2.0 + 5.0) * (2.0 - (-0.5)) = 3 * 7.0 * 2.5 = 52.5\n",
        "Giải thích:\n",
        "Phép nhân, chia, chia lấy nguyên (), cộng, trừ thực hiện theo thứ tự ưu tiên toán học.\n",
        "Nếu có dấu ngoặc, thực hiện trong ngoặc trước.\n",
        "Chia / cho kết quả float, chia lấy nguyên  cho kết quả int nếu cả hai toán hạng là int, ngược lại là float.\n",
        "Phép cộng/trừ float và int cho kết quả float."
      ],
      "metadata": {
        "id": "k-d0l-J7mUtA"
      }
    },
    {
      "cell_type": "markdown",
      "source": [
        "Câu 10:\n",
        " (a)\n",
        "x += 1\n",
        "\n",
        " (b)\n",
        "x /= 2\n",
        "\n",
        " (c)\n",
        "x -= 1\n",
        "\n",
        " (d)\n",
        "x += y\n",
        "\n",
        " (e)\n",
        "x -= (y + 7)\n",
        "\n",
        " (f)\n",
        "x *= 2\n",
        "\n",
        " (g)\n",
        " number_of_closed_cases += 2 * ncc\n",
        "\n",
        "---\n",
        "\n",
        " **bold text**"
      ],
      "metadata": {
        "id": "FTK0b-KUnmxs"
      }
    },
    {
      "cell_type": "markdown",
      "source": [],
      "metadata": {
        "id": "Fix43YWbn5Dl"
      }
    }
  ]
}