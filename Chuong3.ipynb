{
  "nbformat": 4,
  "nbformat_minor": 0,
  "metadata": {
    "colab": {
      "provenance": [],
      "authorship_tag": "ABX9TyMn5RCDD69O8WxrVh61HU/H",
      "include_colab_link": true
    },
    "kernelspec": {
      "name": "python3",
      "display_name": "Python 3"
    },
    "language_info": {
      "name": "python"
    }
  },
  "cells": [
    {
      "cell_type": "markdown",
      "metadata": {
        "id": "view-in-github",
        "colab_type": "text"
      },
      "source": [
        "<a href=\"https://colab.research.google.com/github/loidth235693-cyber/DTH235693_BuiThiNgocLoi_Nopbai/blob/main/Chuong3.ipynb\" target=\"_parent\"><img src=\"https://colab.research.google.com/assets/colab-badge.svg\" alt=\"Open In Colab\"/></a>"
      ]
    },
    {
      "cell_type": "code",
      "execution_count": 2,
      "metadata": {
        "colab": {
          "base_uri": "https://localhost:8080/"
        },
        "id": "_p99EtBZc_PO",
        "outputId": "077c5dd2-2ec0-4d39-c159-eeef764792d1"
      },
      "outputs": [
        {
          "output_type": "stream",
          "name": "stdout",
          "text": [
            "Chương trình kiểm tra năm nhuần\n",
            "Mời ban nhập vào 1 năm:2025\n",
            "Năm  2025  không nhuần\n"
          ]
        }
      ],
      "source": [
        "#Cau1\n",
        "print(\"Chương trình kiểm tra năm nhuần\")\n",
        "year=int(input(\"Mời ban nhập vào 1 năm:\"))\n",
        "if (year % 4 ==0 and year % 100 != 0) or year % 400 == 0:\n",
        " print(\"Năm \", year, \" là năm nhuần\")\n",
        "else:\n",
        " print(\"Năm \", year, \" không nhuần\")"
      ]
    },
    {
      "cell_type": "code",
      "source": [
        "#Cau2\n",
        "print(\"Chương trình đếm số ngày trong tháng\")\n",
        "month=int(input(\"Nhập vào 1 tháng:\"))\n",
        "if month in (1,3,5,7,8,10,12):\n",
        " print(\"Tháng \", month, \" có 31 ngày\")\n",
        "elif month in (4,6,9,11):\n",
        " print(\"Tháng \", month, \" có 30 ngày\")\n",
        "elif month==2:\n",
        " year=int(input(\"Mời bạn nhập vào năm:\"))\n",
        " if (year % 4 ==0 and year % 100 != 0) or year % 400 == 0:\n",
        "  print(\"Tháng \",month, \" có 29 ngày\")\n",
        " else:\n",
        "   print(\"Tháng \", month, \" có 28 ngày\")\n",
        "else:\n",
        "   print(\"Tháng \", month, \" không hợp lệ\")"
      ],
      "metadata": {
        "colab": {
          "base_uri": "https://localhost:8080/"
        },
        "id": "vxrPqr0iduOn",
        "outputId": "547a811a-cf22-417a-bc3b-99bd8b14414d"
      },
      "execution_count": 4,
      "outputs": [
        {
          "output_type": "stream",
          "name": "stdout",
          "text": [
            "Chương trình đếm số ngày trong tháng\n",
            "Nhập vào 1 tháng:4\n",
            "Tháng  4  có 30 ngày\n"
          ]
        }
      ]
    },
    {
      "cell_type": "code",
      "source": [
        "#Cau3\n",
        "#ax^2+bx+c=0\n",
        "from math import sqrt\n",
        "print(\"Chương trình Giải Phương trình bậc 2\")\n",
        "a=float(input(\"Nhập a:\"))\n",
        "b=float(input(\"Nhập b:\"))\n",
        "c=float(input(\"Nhập c:\"))\n",
        "if a == 0:\n",
        " #bx+c=0\n",
        " if b == 0 and c ==0:\n",
        "   print(\"Vô số nghiệm\")\n",
        " elif b==0 and c !=0:\n",
        "   print(\"Vô nghiệm\")\n",
        " else:\n",
        "  x=-c/b\n",
        " print(\"No x=\",x)\n",
        "else:\n",
        " delta=b**2-4*a*c\n",
        " if delta <0 :\n",
        "   print(\"Vô No\")\n",
        " elif delta ==0:\n",
        "   x=-b/(2*a)\n",
        "   print(\"No kép x1=x2=\",x)\n",
        " else:\n",
        "    x1=(-b-sqrt(delta))/(2*a)\n",
        "    x2=(-b+sqrt(delta))/(2*a)\n",
        "    print(\"x1=\",x1)\n",
        "    print(\"x2)=\",x2)"
      ],
      "metadata": {
        "colab": {
          "base_uri": "https://localhost:8080/"
        },
        "id": "IS6QuzxQe5ke",
        "outputId": "4359f31a-21f5-4a90-a0bf-a6b1f7ea0972"
      },
      "execution_count": 7,
      "outputs": [
        {
          "output_type": "stream",
          "name": "stdout",
          "text": [
            "Chương trình Giải Phương trình bậc 2\n",
            "Nhập a:3\n",
            "Nhập b:7\n",
            "Nhập c:9\n",
            "Vô No\n"
          ]
        }
      ]
    },
    {
      "cell_type": "code",
      "source": [
        "#Cau4\n",
        "x = int(input(\"Nhập x: \"))\n",
        "y = int(input(\"Nhập y: \"))\n",
        "z = int(input(\"Nhập z: \"))\n",
        "\n",
        "print(\"Kết quả các biểu thức Boolean:\")\n",
        "print(\"(a)\", x == 3)\n",
        "print(\"(b)\", x < y)\n",
        "print(\"(c)\", x >= y)\n",
        "print(\"(d)\", x <= y)\n",
        "print(\"(e)\", x != y - 2)\n",
        "print(\"(f)\", x < 10)\n",
        "print(\"(g)\", x >= 0 and x < 10)\n",
        "print(\"(h)\", x < 0 and x < 10)\n",
        "print(\"(i)\", x >= 0 and x < 2)\n",
        "print(\"(j)\", x < 0 or x < 10)\n",
        "print(\"(k)\", x > 0 or x < 10)\n",
        "print(\"(l)\", x < 0 or x > 10)"
      ],
      "metadata": {
        "colab": {
          "base_uri": "https://localhost:8080/"
        },
        "id": "yGNQ08mQfzxt",
        "outputId": "070a6577-aab3-4b4b-ee5f-b361bbda327f"
      },
      "execution_count": 11,
      "outputs": [
        {
          "output_type": "stream",
          "name": "stdout",
          "text": [
            "Nhập x: 3\n",
            "Nhập y: 5\n",
            "Nhập z: 7\n",
            "Kết quả các biểu thức Boolean:\n",
            "(a) True\n",
            "(b) True\n",
            "(c) False\n",
            "(d) True\n",
            "(e) False\n",
            "(f) True\n",
            "(g) True\n",
            "(h) False\n",
            "(i) False\n",
            "(j) True\n",
            "(k) True\n",
            "(l) False\n"
          ]
        }
      ]
    },
    {
      "cell_type": "code",
      "source": [
        "#Cau5\n",
        "def process_values(i, j, k):\n",
        "    if i < j:\n",
        "        if j < k:\n",
        "            i = j\n",
        "        else:\n",
        "            j = k\n",
        "    else:\n",
        "        if j > k:\n",
        "            j = i\n",
        "        else:\n",
        "            i = k\n",
        "    print(\"i =\", i, \", j =\", j, \", k =\", k)\n",
        "\n",
        "# Các trường hợp\n",
        "print(\"(a) i=3, j=5, k=7\")\n",
        "process_values(3, 5, 7)\n",
        "\n",
        "print(\"(b) i=3, j=7, k=5\")\n",
        "process_values(3, 7, 5)\n",
        "\n",
        "print(\"(c) i=5, j=3, k=7\")\n",
        "process_values(5, 3, 7)\n",
        "\n",
        "print(\"(d) i=5, j=7, k=3\")\n",
        "process_values(5, 7, 3)\n",
        "\n",
        "print(\"(e) i=7, j=3, k=5\")\n",
        "process_values(7, 3, 5)\n",
        "\n",
        "print(\"(f) i=7, j=5, k=3\")\n",
        "process_values(7, 5, 3)\n"
      ],
      "metadata": {
        "colab": {
          "base_uri": "https://localhost:8080/"
        },
        "id": "rim2bGF0fDRH",
        "outputId": "3c884c78-ce1a-45a7-99cb-e398fe4253b4"
      },
      "execution_count": 12,
      "outputs": [
        {
          "output_type": "stream",
          "name": "stdout",
          "text": [
            "(a) i=3, j=5, k=7\n",
            "i = 5 , j = 5 , k = 7\n",
            "(b) i=3, j=7, k=5\n",
            "i = 3 , j = 5 , k = 5\n",
            "(c) i=5, j=3, k=7\n",
            "i = 7 , j = 3 , k = 7\n",
            "(d) i=5, j=7, k=3\n",
            "i = 5 , j = 3 , k = 3\n",
            "(e) i=7, j=3, k=5\n",
            "i = 5 , j = 3 , k = 5\n",
            "(f) i=7, j=5, k=3\n",
            "i = 7 , j = 7 , k = 3\n"
          ]
        }
      ]
    },
    {
      "cell_type": "code",
      "source": [
        "#Cau6\n",
        "def doc_so(n: int) -> str:\n",
        "    # Bảng đọc chữ số\n",
        "    so = [\"không\", \"một\", \"hai\", \"ba\", \"bốn\", \"năm\", \"sáu\", \"bảy\", \"tám\", \"chín\"]\n",
        "\n",
        "    if n < 0 or n > 99:\n",
        "        return \"Số không hợp lệ (chỉ hỗ trợ từ 0 đến 99).\"\n",
        "\n",
        "    # Trường hợp số < 10\n",
        "    if n < 10:\n",
        "        return so[n].capitalize()\n",
        "\n",
        "    chuc = n // 10\n",
        "    donvi = n % 10\n",
        "\n",
        "    # Trường hợp số tròn chục\n",
        "    if donvi == 0:\n",
        "        return (so[chuc] + \" mươi\").capitalize()\n",
        "\n",
        "    # Trường hợp đặc biệt: 10-19\n",
        "    if chuc == 1:\n",
        "        if donvi == 5:\n",
        "            return \"Mười lăm\"\n",
        "        else:\n",
        "            return (\"Mười \" + so[donvi]).capitalize()\n",
        "\n",
        "    # Trường hợp số thường >= 20\n",
        "    if donvi == 1:\n",
        "        return (so[chuc] + \" mươi mốt\").capitalize()\n",
        "    elif donvi == 5:\n",
        "        return (so[chuc] + \" mươi lăm\").capitalize()\n",
        "    else:\n",
        "        return (so[chuc] + \" mươi \" + so[donvi]).capitalize()\n",
        "\n",
        "\n",
        "# Chương trình chính\n",
        "n = int(input(\"Nhập số n (0 <= n <= 99): \"))\n",
        "print(f\"{n} đọc là: {doc_so(n)}\")\n"
      ],
      "metadata": {
        "colab": {
          "base_uri": "https://localhost:8080/"
        },
        "id": "-R2TdMSVh4jF",
        "outputId": "3aceeb02-207d-4086-f247-ebe92945d07a"
      },
      "execution_count": 14,
      "outputs": [
        {
          "output_type": "stream",
          "name": "stdout",
          "text": [
            "Nhập số n (0 <= n <= 99): 3\n",
            "3 đọc là: Ba\n"
          ]
        }
      ]
    },
    {
      "cell_type": "code",
      "source": [
        "#Cau7\n",
        "import datetime\n",
        "\n",
        "# Nhập dữ liệu\n",
        "ngay = int(input(\"Nhập ngày: \"))\n",
        "thang = int(input(\"Nhập tháng: \"))\n",
        "nam = int(input(\"Nhập năm: \"))\n",
        "\n",
        "try:\n",
        "    # Tạo đối tượng ngày\n",
        "    d = datetime.date(nam, thang, ngay)\n",
        "\n",
        "    # Tìm ngày kế tiếp\n",
        "    ngay_ke_tiep = d + datetime.timedelta(days=1)\n",
        "\n",
        "    # Xuất kết quả\n",
        "    print(\"Ngày kế tiếp là:\", ngay_ke_tiep.strftime(\"%d/%m/%Y\"))\n",
        "except ValueError:\n",
        "    print(\"Ngày tháng năm không hợp lệ!\")\n"
      ],
      "metadata": {
        "colab": {
          "base_uri": "https://localhost:8080/"
        },
        "id": "ATncc8v5itkG",
        "outputId": "55b7f60d-b018-4067-f2fc-f62dc6eb389a"
      },
      "execution_count": 15,
      "outputs": [
        {
          "output_type": "stream",
          "name": "stdout",
          "text": [
            "Nhập ngày: 23\n",
            "Nhập tháng: 3\n",
            "Nhập năm: 2005\n",
            "Ngày kế tiếp là: 24/03/2005\n"
          ]
        }
      ]
    },
    {
      "cell_type": "code",
      "source": [
        "#Cau8\n",
        "# Nhập dữ liệu\n",
        "a = float(input(\"Nhập a: \"))\n",
        "b = float(input(\"Nhập b: \"))\n",
        "phep_toan = input(\"Nhập phép toán (+, -, *, /): \")\n",
        "\n",
        "# Thực hiện phép tính\n",
        "if phep_toan == \"+\":\n",
        "    ket_qua = a + b\n",
        "elif phep_toan == \"-\":\n",
        "    ket_qua = a - b\n",
        "elif phep_toan == \"*\":\n",
        "    ket_qua = a * b\n",
        "elif phep_toan == \"/\":\n",
        "    if b != 0:\n",
        "        ket_qua = a / b\n",
        "    else:\n",
        "        ket_qua = \"Lỗi: không thể chia cho 0\"\n",
        "else:\n",
        "    ket_qua = \"Phép toán không hợp lệ!\"\n",
        "\n",
        "# Xuất kết quả\n",
        "print(\"Kết quả:\", ket_qua)\n"
      ],
      "metadata": {
        "colab": {
          "base_uri": "https://localhost:8080/"
        },
        "id": "9UD2SarcjN6F",
        "outputId": "37261654-49c5-4822-aede-7175617443e7"
      },
      "execution_count": 16,
      "outputs": [
        {
          "output_type": "stream",
          "name": "stdout",
          "text": [
            "Nhập a: 23\n",
            "Nhập b: 40\n",
            "Nhập phép toán (+, -, *, /): +\n",
            "Kết quả: 63.0\n"
          ]
        }
      ]
    },
    {
      "cell_type": "code",
      "source": [
        "#Cau9\n",
        "# Nhập tháng\n",
        "thang = int(input(\"Nhập tháng (1-12): \"))\n",
        "\n",
        "if 1 <= thang <= 3:\n",
        "    print(f\"Tháng {thang} thuộc quý 1\")\n",
        "elif 4 <= thang <= 6:\n",
        "    print(f\"Tháng {thang} thuộc quý 2\")\n",
        "elif 7 <= thang <= 9:\n",
        "    print(f\"Tháng {thang} thuộc quý 3\")\n",
        "elif 10 <= thang <= 12:\n",
        "    print(f\"Tháng {thang} thuộc quý 4\")\n",
        "else:\n",
        "    print(\"Tháng không hợp lệ! Vui lòng nhập từ 1 đến 12.\")\n"
      ],
      "metadata": {
        "colab": {
          "base_uri": "https://localhost:8080/"
        },
        "id": "bPsr15n-jXm7",
        "outputId": "7ef8ae40-d58d-48ac-d5ee-598a0788c2a7"
      },
      "execution_count": 17,
      "outputs": [
        {
          "output_type": "stream",
          "name": "stdout",
          "text": [
            "Nhập tháng (1-12): 3\n",
            "Tháng 3 thuộc quý 1\n"
          ]
        }
      ]
    },
    {
      "cell_type": "code",
      "source": [
        "#Cau10\n",
        "import math\n",
        "\n",
        "# Nhập dữ liệu\n",
        "x = float(input(\"Nhập x: \"))\n",
        "n = int(input(\"Nhập n: \"))\n",
        "\n",
        "S = 0\n",
        "for i in range(1, n + 1):\n",
        "    S += (x ** i) / math.factorial(i)\n",
        "\n",
        "print(\"Kết quả S(x, n) =\", S)\n"
      ],
      "metadata": {
        "colab": {
          "base_uri": "https://localhost:8080/"
        },
        "id": "2qwQTcRZjmDE",
        "outputId": "414667a6-5843-465e-86f5-e3e6fa4a2700"
      },
      "execution_count": 18,
      "outputs": [
        {
          "output_type": "stream",
          "name": "stdout",
          "text": [
            "Nhập x: 3\n",
            "Nhập n: 23\n",
            "Kết quả S(x, n) = 19.085536923187146\n"
          ]
        }
      ]
    },
    {
      "cell_type": "code",
      "source": [
        "#Cau11\n",
        "import math\n",
        "\n",
        "def la_nguyen_to(n: int) -> bool:\n",
        "    \"\"\"Hàm kiểm tra số nguyên tố\"\"\"\n",
        "    if n < 2:\n",
        "        return False\n",
        "    for i in range(2, int(math.sqrt(n)) + 1):\n",
        "        if n % i == 0:\n",
        "            return False\n",
        "    return True\n",
        "\n",
        "# Chương trình chính\n",
        "while True:\n",
        "    n = int(input(\"Nhập một số nguyên: \"))\n",
        "\n",
        "    if la_nguyen_to(n):\n",
        "        print(f\"{n} là số nguyên tố.\")\n",
        "    else:\n",
        "        print(f\"{n} không phải là số nguyên tố.\")\n",
        "\n",
        "    tiep_tuc = input(\"Bạn có muốn tiếp tục không? (c/k): \").lower()\n",
        "    if tiep_tuc != \"c\":\n",
        "        print(\"Thoát chương trình.\")\n",
        "        break"
      ],
      "metadata": {
        "colab": {
          "base_uri": "https://localhost:8080/"
        },
        "id": "SM90fdUNkART",
        "outputId": "1c3988eb-71b0-4d7a-88d5-90901e45a5eb"
      },
      "execution_count": 20,
      "outputs": [
        {
          "output_type": "stream",
          "name": "stdout",
          "text": [
            "Nhập một số nguyên: 23\n",
            "23 là số nguyên tố.\n",
            "Bạn có muốn tiếp tục không? (c/k): k\n",
            "Thoát chương trình.\n"
          ]
        }
      ]
    },
    {
      "cell_type": "code",
      "source": [
        "#Cau12\n",
        "# Xuất bảng cửu chương từ 2 đến 9\n",
        "for i in range(1, 10):\n",
        "    for j in range(2, 10):\n",
        "        print(f\"{j} x {i} = {j*i:2}\", end=\"\\t\")\n",
        "    print()\n"
      ],
      "metadata": {
        "colab": {
          "base_uri": "https://localhost:8080/"
        },
        "id": "GmnwxiHDkdOS",
        "outputId": "13a240b4-1b10-4da3-c16b-df48e0743e11"
      },
      "execution_count": 21,
      "outputs": [
        {
          "output_type": "stream",
          "name": "stdout",
          "text": [
            "2 x 1 =  2\t3 x 1 =  3\t4 x 1 =  4\t5 x 1 =  5\t6 x 1 =  6\t7 x 1 =  7\t8 x 1 =  8\t9 x 1 =  9\t\n",
            "2 x 2 =  4\t3 x 2 =  6\t4 x 2 =  8\t5 x 2 = 10\t6 x 2 = 12\t7 x 2 = 14\t8 x 2 = 16\t9 x 2 = 18\t\n",
            "2 x 3 =  6\t3 x 3 =  9\t4 x 3 = 12\t5 x 3 = 15\t6 x 3 = 18\t7 x 3 = 21\t8 x 3 = 24\t9 x 3 = 27\t\n",
            "2 x 4 =  8\t3 x 4 = 12\t4 x 4 = 16\t5 x 4 = 20\t6 x 4 = 24\t7 x 4 = 28\t8 x 4 = 32\t9 x 4 = 36\t\n",
            "2 x 5 = 10\t3 x 5 = 15\t4 x 5 = 20\t5 x 5 = 25\t6 x 5 = 30\t7 x 5 = 35\t8 x 5 = 40\t9 x 5 = 45\t\n",
            "2 x 6 = 12\t3 x 6 = 18\t4 x 6 = 24\t5 x 6 = 30\t6 x 6 = 36\t7 x 6 = 42\t8 x 6 = 48\t9 x 6 = 54\t\n",
            "2 x 7 = 14\t3 x 7 = 21\t4 x 7 = 28\t5 x 7 = 35\t6 x 7 = 42\t7 x 7 = 49\t8 x 7 = 56\t9 x 7 = 63\t\n",
            "2 x 8 = 16\t3 x 8 = 24\t4 x 8 = 32\t5 x 8 = 40\t6 x 8 = 48\t7 x 8 = 56\t8 x 8 = 64\t9 x 8 = 72\t\n",
            "2 x 9 = 18\t3 x 9 = 27\t4 x 9 = 36\t5 x 9 = 45\t6 x 9 = 54\t7 x 9 = 63\t8 x 9 = 72\t9 x 9 = 81\t\n"
          ]
        }
      ]
    },
    {
      "cell_type": "markdown",
      "source": [
        "#Cau13\n",
        "Phân tích:\n",
        "a = 0\n",
        "Vòng lặp while a < 100: sẽ chạy mãi mãi vì trong thân vòng lặp không hề có câu lệnh thay đổi giá trị của a.\n",
        "Như vậy điều kiện a < 100 luôn đúng, dẫn đến vòng lặp vô hạn.\n",
        "Kết quả: Chương trình sẽ in ra vô hạn dấu * (không đếm được)."
      ],
      "metadata": {
        "id": "-BunXaXYlghq"
      }
    },
    {
      "cell_type": "markdown",
      "source": [
        "#Cau14\n",
        "Phân tích:\n",
        "a chạy từ 0 → 99 (100 lần).\n",
        "Với mỗi a, b chạy từ 0 → 39 (40 lần).\n",
        "Điều kiện in dấu *:\n",
        "(a + b) % 2 == 0   (tức là tổng a+b chẵn)\n",
        "Trong 40 số liên tiếp, luôn có 20 số chẵn, 20 số lẻ.\n",
        "→ Nghĩa là với mỗi vòng a, ta in ra 20 dấu *.\n",
        "Vì a lặp 100 lần, nên tổng số dấu * in ra:\n",
        "100 × 20 = 2000 dấu *"
      ],
      "metadata": {
        "id": "gv6J-cunlzZK"
      }
    },
    {
      "cell_type": "markdown",
      "source": [
        "#Cau15\n",
        "range(start, stop, step)\n",
        "start: giá trị bắt đầu (mặc định = 0).\n",
        "stop: giá trị kết thúc (không bao gồm).\n",
        "step: bước nhảy (mặc định = 1).\n",
        "\n",
        "Giải thích từng trường hợp:\n",
        "(a) range(5)\n",
        "Mặc định start = 0, stop = 5, step = 1\n",
        "→ Dãy: 0, 1, 2, 3, 4\n",
        "\n",
        "(b) range(5, 10)\n",
        "start = 5, stop = 10, step = 1\n",
        "→ Dãy: 5, 6, 7, 8, 9\n",
        "\n",
        "(c) range(5, 20, 3)\n",
        "start = 5, stop = 20, step = 3\n",
        "→ Dãy: 5, 8, 11, 14, 17\n",
        "\n",
        "(d) range(20, 5, -1)\n",
        "start = 20, stop = 5, step = -1\n",
        "→ Dãy: 20, 19, 18, …, 6\n",
        "\n",
        "(e) range(20, 5, -3)\n",
        "start = 20, stop = 5, step = -3\n",
        "→ Dãy: 20, 17, 14, 11, 8\n",
        "\n",
        "(f) range(10, 5)\n",
        "start = 10, stop = 5, step = 1 (mặc định dương)\n",
        "Vì start > stop nên rỗng → []\n",
        "\n",
        "(g) range(0)\n",
        "start = 0, stop = 0\n",
        "Không có phần tử nào → []\n",
        "\n",
        "(h) range(10, 101, 10)\n",
        "Bắt đầu từ 10, tăng 10 đến < 101\n",
        "→ Dãy: 10, 20, 30, …, 100\n",
        "\n",
        "(i) range(10, -1, -1)\n",
        "Bắt đầu từ 10, giảm 1 đến > -1\n",
        "→ Dãy: 10, 9, 8, …, 1, 0\n",
        "\n",
        "(j) range(-3, 4)\n",
        "start = -3, stop = 4, step = 1\n",
        "→ Dãy: -3, -2, -1, 0, 1, 2, 3\n",
        "\n",
        "(k) range(0, 10, 1)\n",
        "start = 0, stop = 10, step = 1\n",
        "→ Dãy: 0, 1, 2, 3, 4, 5, 6, 7, 8, 9"
      ],
      "metadata": {
        "id": "MW6TO81em_kq"
      }
    },
    {
      "cell_type": "markdown",
      "source": [
        "#Cau16\n",
        "for a in range(20, 100, 5):\n",
        "    print('*', end='')\n",
        "print()\n",
        "Bước 1: Xem dãy range(20, 100, 5)\n",
        "Bắt đầu từ 20\n",
        "Kết thúc trước 100\n",
        "Bước nhảy 5\n",
        "=> Dãy số sẽ là:\n",
        "20, 25, 30, 35, 40, …, 95\n",
        "Bước 2: Đếm số phần tử\n",
        "Số phần tử =\n",
        "95\n",
        "−\n",
        "20\n",
        "5\n",
        "+\n",
        "1\n",
        "=\n",
        "75\n",
        "5\n",
        "+\n",
        "1\n",
        "=\n",
        "15\n",
        "+\n",
        "1\n",
        "=\n",
        "16\n",
        "5\n",
        "95−20\n",
        "​\n",
        " +1=\n",
        "5\n",
        "75\n",
        "​\n",
        " +1=15+1=16.\n",
        "\n",
        "Bước 3: Mỗi vòng lặp in ra 1 dấu *\n",
        "Vậy tổng cộng có 16 dấu * được in ra trên màn hình (nằm liền nhau trên cùng một dòng).\n",
        "\n",
        "👉 Kết quả: In ra 16 dấu *"
      ],
      "metadata": {
        "id": "adfnl4p7nUah"
      }
    },
    {
      "cell_type": "code",
      "source": [
        "#Cau17\n",
        "n, m = 0, 100\n",
        "while n != m:\n",
        "    n = int(input())\n",
        "    if n < 0:\n",
        "        break\n",
        "    print(\"n =\", n)"
      ],
      "metadata": {
        "colab": {
          "base_uri": "https://localhost:8080/"
        },
        "id": "-aDhXt_LoUZp",
        "outputId": "4a8aa77f-1225-4919-8a6a-dff09ac2da0c"
      },
      "execution_count": 22,
      "outputs": [
        {
          "name": "stdout",
          "output_type": "stream",
          "text": [
            "23\n",
            "n = 23\n",
            "45\n",
            "n = 45\n",
            "67\n",
            "n = 67\n",
            "1\n",
            "n = 1\n",
            "101\n",
            "n = 101\n",
            "-1\n"
          ]
        }
      ]
    },
    {
      "cell_type": "code",
      "source": [
        "#Cau18\n",
        "#Hinh1\n",
        "n = int(input(\"Nhập chiều cao n: \"))\n",
        "for i in range(n):\n",
        "    for j in range(n):\n",
        "        if i == 0 or i == n - 1 or j == 0 or j == n - 1:\n",
        "            print(\"*\", end=\" \")\n",
        "        else:\n",
        "            print(\" \", end=\" \")\n",
        "    print()\n",
        "#Hinh2\n",
        "n = int(input(\"Nhập chiều cao n: \"))\n",
        "for i in range(1, n + 1):\n",
        "    for j in range(i):\n",
        "        print(\"*\", end=\" \")\n",
        "    print()\n",
        "#Hinh3\n",
        "n = int(input(\"Nhập chiều cao n: \"))\n",
        "for i in range(n, 0, -1):\n",
        "    for j in range(i):\n",
        "        print(\"*\", end=\" \")\n",
        "    print()\n"
      ],
      "metadata": {
        "colab": {
          "base_uri": "https://localhost:8080/"
        },
        "id": "lFDeh7AKpCex",
        "outputId": "597b4c5a-8eaf-469b-d438-a6d4995d9a74"
      },
      "execution_count": 24,
      "outputs": [
        {
          "output_type": "stream",
          "name": "stdout",
          "text": [
            "Nhập chiều cao n: 4\n",
            "* * * * \n",
            "*     * \n",
            "*     * \n",
            "* * * * \n",
            "Nhập chiều cao n: 5\n",
            "* \n",
            "* * \n",
            "* * * \n",
            "* * * * \n",
            "* * * * * \n",
            "Nhập chiều cao n: 3\n",
            "* * * \n",
            "* * \n",
            "* \n"
          ]
        }
      ]
    },
    {
      "cell_type": "code",
      "source": [
        "#Cau19\n",
        "import math\n",
        "\n",
        "# Nhập x và n\n",
        "x = float(input(\"Nhập x: \"))\n",
        "n = int(input(\"Nhập n: \"))\n",
        "\n",
        "S = 0\n",
        "for k in range(n + 1):\n",
        "    S += x**(2*k + 1) / math.factorial(2*k + 1)\n",
        "print(\"Giá trị S(x, n) =\", S)"
      ],
      "metadata": {
        "colab": {
          "base_uri": "https://localhost:8080/"
        },
        "id": "jKCWqOLvpEzb",
        "outputId": "b6d59929-5505-4022-ca73-e1906a8d18aa"
      },
      "execution_count": 25,
      "outputs": [
        {
          "output_type": "stream",
          "name": "stdout",
          "text": [
            "Nhập x: 23\n",
            "Nhập n: 4\n",
            "Giá trị S(x, n) = 5694741.51587026\n"
          ]
        }
      ]
    }
  ]
}