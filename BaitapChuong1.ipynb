{
 "cells": [
  {
   "cell_type": "code",
   "execution_count": null,
   "metadata": {
    "colab": {
     "base_uri": "https://localhost:8080/"
    },
    "executionInfo": {
     "elapsed": 38,
     "status": "ok",
     "timestamp": 1756138547030,
     "user": {
      "displayName": "BUI THI NGOC LOI",
      "userId": "00984907920815667730"
     },
     "user_tz": -420
    },
    "id": "-BCPbYla_jJg",
    "outputId": "4b93da44-978f-41d4-ff91-ed3ca7c2dabb"
   },
   "outputs": [
    {
     "name": "stdout",
     "output_type": "stream",
     "text": [
      "Hello World!\n"
     ]
    }
   ],
   "source": [
    "print(\"Hello World!\")\n"
   ]
  },
  {
   "cell_type": "code",
   "execution_count": null,
   "metadata": {
    "colab": {
     "base_uri": "https://localhost:8080/"
    },
    "executionInfo": {
     "elapsed": 11,
     "status": "ok",
     "timestamp": 1756138637617,
     "user": {
      "displayName": "BUI THI NGOC LOI",
      "userId": "00984907920815667730"
     },
     "user_tz": -420
    },
    "id": "PZm6SWRVA93R",
    "outputId": "39ae00c7-e942-410a-c5f1-2af3f8453f20"
   },
   "outputs": [
    {
     "name": "stdout",
     "output_type": "stream",
     "text": [
      "Albert Einstein đã từng nói: Một người không bao giờ mắc sai lầm không bao giờ thử bất kì điều gì mới.\n"
     ]
    }
   ],
   "source": [
    "print(\"Albert Einstein đã từng nói: Một người không bao giờ mắc sai lầm không bao giờ thử bất kì điều gì mới.\")"
   ]
  },
  {
   "cell_type": "code",
   "execution_count": null,
   "metadata": {
    "colab": {
     "base_uri": "https://localhost:8080/"
    },
    "executionInfo": {
     "elapsed": 28,
     "status": "ok",
     "timestamp": 1756138775362,
     "user": {
      "displayName": "BUI THI NGOC LOI",
      "userId": "00984907920815667730"
     },
     "user_tz": -420
    },
    "id": "Xs_rqJ_XBSGI",
    "outputId": "b41756a6-a17d-4023-c9c0-67abe06861ec"
   },
   "outputs": [
    {
     "name": "stdout",
     "output_type": "stream",
     "text": [
      "Five is greater than tow!\n"
     ]
    }
   ],
   "source": [
    "if 5 > 2:\n",
    "  print(\"Five is greater than tow!\")"
   ]
  },
  {
   "cell_type": "code",
   "execution_count": null,
   "metadata": {
    "colab": {
     "base_uri": "https://localhost:8080/"
    },
    "executionInfo": {
     "elapsed": 27,
     "status": "ok",
     "timestamp": 1756139107963,
     "user": {
      "displayName": "BUI THI NGOC LOI",
      "userId": "00984907920815667730"
     },
     "user_tz": -420
    },
    "id": "cx0InrEwCs0k",
    "outputId": "fd340baf-221e-4b59-a7ae-4a8a6458a65f"
   },
   "outputs": [
    {
     "name": "stdout",
     "output_type": "stream",
     "text": [
      "6\n",
      "Hello Python!\n"
     ]
    }
   ],
   "source": [
    "total=0\n",
    "total=1+\\\n",
    "2+\\\n",
    "3\n",
    "print(total);print(\"Hello Python!\")"
   ]
  },
  {
   "cell_type": "code",
   "execution_count": null,
   "metadata": {
    "colab": {
     "base_uri": "https://localhost:8080/"
    },
    "executionInfo": {
     "elapsed": 18,
     "status": "ok",
     "timestamp": 1756139178090,
     "user": {
      "displayName": "BUI THI NGOC LOI",
      "userId": "00984907920815667730"
     },
     "user_tz": -420
    },
    "id": "XMMth6anDFc_",
    "outputId": "dba190bf-e5d7-42f3-f667-df77043f89cf"
   },
   "outputs": [
    {
     "name": "stdout",
     "output_type": "stream",
     "text": [
      "True\n"
     ]
    }
   ],
   "source": [
    "if True:\n",
    "  print(\"True\")\n",
    "else:\n",
    "  print(\"False\")"
   ]
  },
  {
   "cell_type": "code",
   "execution_count": null,
   "metadata": {
    "colab": {
     "base_uri": "https://localhost:8080/"
    },
    "executionInfo": {
     "elapsed": 33,
     "status": "ok",
     "timestamp": 1756139473938,
     "user": {
      "displayName": "BUI THI NGOC LOI",
      "userId": "00984907920815667730"
     },
     "user_tz": -420
    },
    "id": "jGXeFQOsDVxt",
    "outputId": "7dc2da05-35d2-4744-9600-24180930b09f"
   },
   "outputs": [
    {
     "name": "stdout",
     "output_type": "stream",
     "text": [
      "Hello Wprdl!\n"
     ]
    }
   ],
   "source": [
    "#This is a comment\n",
    "print(\"Hello Wprdl!\")"
   ]
  },
  {
   "cell_type": "code",
   "execution_count": null,
   "metadata": {
    "id": "CfH26phgFAQ1"
   },
   "outputs": [],
   "source": [
    "def add(a,b):\n",
    "  result = a + b\n",
    "  return result"
   ]
  },
  {
   "cell_type": "code",
   "execution_count": null,
   "metadata": {
    "colab": {
     "base_uri": "https://localhost:8080/"
    },
    "executionInfo": {
     "elapsed": 26,
     "status": "ok",
     "timestamp": 1756139857526,
     "user": {
      "displayName": "BUI THI NGOC LOI",
      "userId": "00984907920815667730"
     },
     "user_tz": -420
    },
    "id": "STSmtQkwF0fs",
    "outputId": "60914bb8-1bd2-4880-c438-7b6a4fe55039"
   },
   "outputs": [
    {
     "name": "stdout",
     "output_type": "stream",
     "text": [
      "Chao cac ban!\n"
     ]
    }
   ],
   "source": [
    "print(\"Chao cac ban!\")"
   ]
  },
  {
   "cell_type": "code",
   "execution_count": null,
   "metadata": {
    "colab": {
     "base_uri": "https://localhost:8080/"
    },
    "executionInfo": {
     "elapsed": 9,
     "status": "ok",
     "timestamp": 1756139951881,
     "user": {
      "displayName": "BUI THI NGOC LOI",
      "userId": "00984907920815667730"
     },
     "user_tz": -420
    },
    "id": "FAK1INUiF7Lm",
    "outputId": "277761f9-47b9-47f5-dbe9-3881de8b39cd"
   },
   "outputs": [
    {
     "name": "stdout",
     "output_type": "stream",
     "text": [
      "Bùi Thị Ngọc Lợi\n"
     ]
    }
   ],
   "source": [
    "print(\"Đặng Kim Khuê\")"
   ]
  }
 ],
 "metadata": {
  "colab": {
   "authorship_tag": "ABX9TyMrnIRlQaYSqlHUemST/vcH",
   "provenance": []
  },
  "kernelspec": {
   "display_name": "Python 3",
   "name": "python3"
  },
  "language_info": {
   "name": "python"
  }
 },
 "nbformat": 4,
 "nbformat_minor": 0
}
